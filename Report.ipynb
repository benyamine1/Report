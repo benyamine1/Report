{
 "cells": [
  {
   "cell_type": "markdown",
   "metadata": {},
   "source": [
    "## Introduction: Business Problem \n",
    "\n",
    "In this project, I will try to determine an ideal location for stakeholders interested in opening an Italian restaurant in New York City’s Manhattan neighborhood. To find the best locations for stakeholders, I will look for locations where there aren't many restaurants in the area particularly Italian and divide the neighborhoods based on the criteria where the final locations will be selected. The neighborhoods with the lowest number of Italian restaurants are the ideal locations.\n"
   ]
  },
  {
   "cell_type": "markdown",
   "metadata": {},
   "source": [
    "## Data\n",
    "These lists (data) will determine our choice for selecting the best location: \n",
    "- We will use Foursquare API to determine how many Italian restaurants are in the neighborhood? \n",
    "- We will use Foursquare API to determine how many total restaurants (including Italian) are in the neighborhood? \n",
    "- We will use Google maps API geocoding to find how far the neighborhood is from the main city center?\n"
   ]
  },
  {
   "cell_type": "markdown",
   "metadata": {},
   "source": [
    "## Methodology\n",
    "\n",
    "The first step will be to collect all the required data i.e all the neighborhoods in Manhattan, total number of restaurants and businesses, and their locations.\n",
    "\n",
    "The second step is to find the number of Italian restaurants in each neighborhood.\n",
    "\n",
    "The final step is to identify neighborhoods with less than two Italian restaurants to be presented to stakeholders. \n"
   ]
  },
  {
   "cell_type": "markdown",
   "metadata": {},
   "source": [
    "## Results and Discussion\n",
    "\n",
    "We have identified the best and worst locations to open an Italian restaurant. The worst locations are neighborhoods like Upper East Side and Greenwich Village with more than eight restaurants.  The most optimal locations are Chinatown, Flatiron, Hamilton Heights, Lower East Side, Manhattan Valley, Tudor City, Washington Heights since they have less than two restaurants. \n"
   ]
  },
  {
   "cell_type": "markdown",
   "metadata": {},
   "source": [
    "## Conclusion\n",
    "\n",
    "Seven neighborhoods were identified as the best locations for opening Italian restaurants. These locations are only to be used as a starting point for more research. Stakeholders will consider other factors to narrow down their options. \n"
   ]
  },
  {
   "cell_type": "code",
   "execution_count": null,
   "metadata": {
    "collapsed": true
   },
   "outputs": [],
   "source": []
  }
 ],
 "metadata": {
  "kernelspec": {
   "display_name": "Python 3",
   "language": "python",
   "name": "python3"
  },
  "language_info": {
   "codemirror_mode": {
    "name": "ipython",
    "version": 3
   },
   "file_extension": ".py",
   "mimetype": "text/x-python",
   "name": "python",
   "nbconvert_exporter": "python",
   "pygments_lexer": "ipython3",
   "version": "3.5.2"
  },
  "widgets": {
   "state": {},
   "version": "1.1.2"
  }
 },
 "nbformat": 4,
 "nbformat_minor": 2
}
